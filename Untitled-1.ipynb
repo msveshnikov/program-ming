{
 "cells": [
  {
   "cell_type": "code",
   "execution_count": null,
   "id": "52adc7c6",
   "metadata": {},
   "outputs": [],
   "source": [
    "import winsound\n",
    "import time\n",
    "\n",
    "# Define frequencies for musical notes\n",
    "c4 = 262\n",
    "d4 = 294\n",
    "e4 = 330\n",
    "f4 = 349\n",
    "g4 = 392\n",
    "a4 = 440\n",
    "\n",
    "# Duration for each note (in milliseconds)\n",
    "duration = 350\n",
    "\n",
    "# Play Happy Birthday tune\n",
    "def play_happy_birthday():\n",
    "    # Happy\n",
    "    winsound.Beep(c4, duration)\n",
    "    winsound.Beep(c4, duration)\n",
    "    # Birth-\n",
    "    winsound.Beep(d4, duration)\n",
    "    time.sleep(duration/1000)\n",
    "    # day\n",
    "    winsound.Beep(c4, duration)\n",
    "    time.sleep(duration/1000)\n",
    "    # to\n",
    "    winsound.Beep(f4, duration)\n",
    "    time.sleep(duration/1000)\n",
    "    # you\n",
    "    winsound.Beep(e4, duration*2)\n",
    "    \n",
    "    # Happy\n",
    "    winsound.Beep(c4, duration)\n",
    "    winsound.Beep(c4, duration)\n",
    "    # Birth-\n",
    "    winsound.Beep(d4, duration)\n",
    "    time.sleep(duration/1000)\n",
    "    # day\n",
    "    winsound.Beep(c4, duration)\n",
    "    time.sleep(duration/1000)\n",
    "    # to\n",
    "    winsound.Beep(g4, duration)\n",
    "    time.sleep(duration/1000)\n",
    "    # you\n",
    "    winsound.Beep(f4, duration*2)\n",
    "\n",
    "play_happy_birthday()\n"
   ]
  },
  {
   "cell_type": "code",
   "execution_count": 19,
   "id": "94b312fe",
   "metadata": {},
   "outputs": [
    {
     "name": "stdout",
     "output_type": "stream",
     "text": [
      "3\n",
      "zuza\n",
      "1 1 Veronika\n",
      "1 2 Veronika\n",
      "1 3 Veronika\n",
      "2 1 Veronika\n",
      "2 2 Veronika\n",
      "2 3 Veronika\n",
      "3 1 Veronika\n",
      "3 2 Veronika\n",
      "3 3 Veronika\n",
      "4 1 Veronika\n",
      "4 2 Veronika\n",
      "4 3 Veronika\n",
      "5 1 Veronika\n",
      "5 2 Veronika\n",
      "5 3 Veronika\n",
      "747\n",
      "element -999\n",
      "8\n",
      "o\n"
     ]
    }
   ],
   "source": [
    "a=2\n",
    "a=a+1\n",
    "print(a)\n",
    "\n",
    "name=\"Veronika\"\n",
    "#print(name)\n",
    "\n",
    "if(name==\"Veronika\"):\n",
    "    print(\"zuza\")\n",
    "else: \n",
    "    print(8)\n",
    "\n",
    "a=0\n",
    "\n",
    "while(a<5):\n",
    "    a=a+1\n",
    "    b=0\n",
    "    while(b<3):\n",
    "        b=b+1\n",
    "        print(a,b,name)\n",
    "    \n",
    "\n",
    "print(747)\n",
    "\n",
    "\n",
    "my_array = [1, 3, 2, 5, 6,54,0, -999, 62,98,45,633,1.11]\n",
    "minimum = float('inf')\n",
    "i = 0  # начинаем с индекса 1, так как индекс 0 уже сохранен как максимум\n",
    "\n",
    "while i < len(my_array):\n",
    "    if my_array[i] < minimum:\n",
    "        minimum = my_array[i]\n",
    "    i = i+1\n",
    "\n",
    "\n",
    "print(f\"element {minimum}\")\n",
    "print(len(name))\n",
    "print(name[3])\n",
    "\n",
    "\n",
    "\n"
   ]
  },
  {
   "cell_type": "code",
   "execution_count": null,
   "id": "4fc1d8c4",
   "metadata": {},
   "outputs": [],
   "source": []
  },
  {
   "cell_type": "code",
   "execution_count": 7,
   "id": "fd0f96bd",
   "metadata": {},
   "outputs": [
    {
     "name": "stdout",
     "output_type": "stream",
     "text": [
      "10\n",
      "20\n",
      "VeronikaVeronika\n"
     ]
    }
   ],
   "source": [
    "def my_function(x):\n",
    "    return x*2\n",
    "\n",
    "\n",
    "\n",
    "print(my_function(5))\n",
    "print(my_function(10))\n",
    "print(my_function(\"Veronika\"))"
   ]
  },
  {
   "cell_type": "code",
   "execution_count": null,
   "id": "c4f968f6",
   "metadata": {},
   "outputs": [
    {
     "name": "stdout",
     "output_type": "stream",
     "text": [
      "akinoreV\n",
      "ailuY\n",
      "mixaM\n",
      "kihcnaytsoK\n",
      "aknohsaM\n",
      "0987654321\n"
     ]
    }
   ],
   "source": [
    "def reversed_string(name):\n",
    "    reverse = \"\"\n",
    "    i = 0 \n",
    "\n",
    "    while i < len(name):\n",
    "        reverse = name[i] + reverse\n",
    "        i = i + 1\n",
    "        \n",
    "    return reverse\n",
    "\n",
    "\n",
    "\n",
    "print(reversed_string(\"Veronika\"))\n",
    "print(reversed_string(\"Yulia\"))\n",
    "print(reversed_string(\"Maxim\"))\n",
    "print(reversed_string(\"Kostyanchik\"))\n",
    "print(reversed_string(\"Mashonka\"))\n",
    "print(reversed_string(\"1234567890\"))\n"
   ]
  },
  {
   "cell_type": "code",
   "execution_count": 22,
   "id": "a3faf72f",
   "metadata": {},
   "outputs": [
    {
     "name": "stdout",
     "output_type": "stream",
     "text": [
      "-999\n",
      "Yulia\n"
     ]
    }
   ],
   "source": [
    "def mini(my_array):\n",
    "\n",
    "    minimum = my_array[0]\n",
    "    i = 0  # начинаем с индекса 1, так как индекс 0 уже сохранен как максимум\n",
    "\n",
    "    while i < len(my_array):\n",
    "        if my_array[i] < minimum:\n",
    "            minimum = my_array[i]\n",
    "        i = i+1\n",
    "    return minimum\n",
    "\n",
    "\n",
    "def maxi(my_array):\n",
    "\n",
    "    maximum = my_array[0]\n",
    "    i = 0  # начинаем с индекса 1, так как индекс 0 уже сохранен как максимум\n",
    "\n",
    "    while i < len(my_array):\n",
    "        if my_array[i] > maximum:\n",
    "            maximum = my_array[i]\n",
    "        i = i+1\n",
    "    return maximum\n",
    "\n",
    "print(mini ([1, 3, 2, 5, 6,54,0, -999, 62,98,45,633,1.11]))\n",
    "\n",
    "print(maxi ([\"Yulia\", \"Veronika\", \"Maxim\", \"Kostyanchik\", \"Mashonka\", \"Anya\"]))"
   ]
  },
  {
   "cell_type": "code",
   "execution_count": 23,
   "id": "cf852138",
   "metadata": {},
   "outputs": [
    {
     "name": "stdout",
     "output_type": "stream",
     "text": [
      "pygame 2.6.1 (SDL 2.28.4, Python 3.11.9)\n",
      "Hello from the pygame community. https://www.pygame.org/contribute.html\n"
     ]
    },
    {
     "ename": "SystemExit",
     "evalue": "",
     "output_type": "error",
     "traceback": [
      "An exception has occurred, use %tb to see the full traceback.\n",
      "\u001b[31mSystemExit\u001b[39m\n"
     ]
    },
    {
     "name": "stderr",
     "output_type": "stream",
     "text": [
      "C:\\Users\\veronika\\AppData\\Local\\Packages\\PythonSoftwareFoundation.Python.3.11_qbz5n2kfra8p0\\LocalCache\\local-packages\\Python311\\site-packages\\IPython\\core\\interactiveshell.py:3707: UserWarning: To exit: use 'exit', 'quit', or Ctrl-D.\n",
      "  warn(\"To exit: use 'exit', 'quit', or Ctrl-D.\", stacklevel=1)\n"
     ]
    }
   ],
   "source": [
    "import pygame\n",
    "import sys\n",
    "\n",
    "# Инициализация Pygame\n",
    "pygame.init()\n",
    "\n",
    "# Настройки окна\n",
    "WIDTH = 800\n",
    "HEIGHT = 600\n",
    "WINDOW = pygame.display.set_mode((WIDTH, HEIGHT))\n",
    "pygame.display.set_caption(\"Движущийся персонаж\")\n",
    "\n",
    "# Цвета\n",
    "WHITE = (255, 255, 255)\n",
    "RED = (255, 0, 0)\n",
    "\n",
    "# Параметры персонажа\n",
    "player_size = 50\n",
    "player_x = WIDTH // 2\n",
    "player_y = HEIGHT // 2\n",
    "player_speed = 5\n",
    "\n",
    "# Игровой цикл\n",
    "clock = pygame.time.Clock()\n",
    "\n",
    "while True:\n",
    "    # Обработка событий\n",
    "    for event in pygame.event.get():\n",
    "        if event.type == pygame.QUIT:\n",
    "            pygame.quit()\n",
    "            sys.exit()\n",
    "    \n",
    "    # Управление персонажем\n",
    "    keys = pygame.key.get_pressed()\n",
    "    if keys[pygame.K_LEFT] and player_x > 0:\n",
    "        player_x -= player_speed\n",
    "    if keys[pygame.K_RIGHT] and player_x < WIDTH - player_size:\n",
    "        player_x += player_speed\n",
    "    if keys[pygame.K_UP] and player_y > 0:\n",
    "        player_y -= player_speed\n",
    "    if keys[pygame.K_DOWN] and player_y < HEIGHT - player_size:\n",
    "        player_y += player_speed\n",
    "    \n",
    "    # Отрисовка\n",
    "    WINDOW.fill(WHITE)\n",
    "    pygame.draw.rect(WINDOW, RED, (player_x, player_y, player_size, player_size))\n",
    "    pygame.display.update()\n",
    "    \n",
    "    # Ограничение FPS\n",
    "    clock.tick(60)"
   ]
  }
 ],
 "metadata": {
  "kernelspec": {
   "display_name": "Python 3",
   "language": "python",
   "name": "python3"
  },
  "language_info": {
   "codemirror_mode": {
    "name": "ipython",
    "version": 3
   },
   "file_extension": ".py",
   "mimetype": "text/x-python",
   "name": "python",
   "nbconvert_exporter": "python",
   "pygments_lexer": "ipython3",
   "version": "3.11.9"
  }
 },
 "nbformat": 4,
 "nbformat_minor": 5
}
